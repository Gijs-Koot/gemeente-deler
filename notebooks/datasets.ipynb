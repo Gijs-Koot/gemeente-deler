{
 "cells": [
  {
   "cell_type": "code",
   "execution_count": 1,
   "metadata": {
    "collapsed": false
   },
   "outputs": [
    {
     "name": "stdout",
     "output_type": "stream",
     "text": [
      "Populating the interactive namespace from numpy and matplotlib\n"
     ]
    },
    {
     "ename": "ImportError",
     "evalue": "No module named 'feather'",
     "output_type": "error",
     "traceback": [
      "\u001b[1;31m---------------------------------------------------------------------------\u001b[0m",
      "\u001b[1;31mImportError\u001b[0m                               Traceback (most recent call last)",
      "\u001b[1;32m<ipython-input-1-cca16179d6aa>\u001b[0m in \u001b[0;36m<module>\u001b[1;34m()\u001b[0m\n\u001b[0;32m      2\u001b[0m \u001b[1;33m\u001b[0m\u001b[0m\n\u001b[0;32m      3\u001b[0m \u001b[1;32mimport\u001b[0m \u001b[0mpandas\u001b[0m \u001b[1;32mas\u001b[0m \u001b[0mpd\u001b[0m\u001b[1;33m\u001b[0m\u001b[0m\n\u001b[1;32m----> 4\u001b[1;33m \u001b[1;32mimport\u001b[0m \u001b[0mfeather\u001b[0m\u001b[1;33m\u001b[0m\u001b[0m\n\u001b[0m\u001b[0;32m      5\u001b[0m \u001b[1;33m\u001b[0m\u001b[0m\n\u001b[0;32m      6\u001b[0m \u001b[0mdatasets\u001b[0m \u001b[1;33m=\u001b[0m \u001b[0mlist\u001b[0m\u001b[1;33m(\u001b[0m\u001b[1;33m)\u001b[0m\u001b[1;33m\u001b[0m\u001b[0m\n",
      "\u001b[1;31mImportError\u001b[0m: No module named 'feather'"
     ]
    }
   ],
   "source": [
    "%pylab inline\n",
    "\n",
    "import pandas as pd\n",
    "import feather\n",
    "\n",
    "datasets = list()"
   ]
  },
  {
   "cell_type": "code",
   "execution_count": 3,
   "metadata": {
    "collapsed": true
   },
   "outputs": [],
   "source": [
    "## bevolkingsaantal"
   ]
  },
  {
   "cell_type": "code",
   "execution_count": 15,
   "metadata": {
    "collapsed": false
   },
   "outputs": [
    {
     "data": {
      "text/html": [
       "<div>\n",
       "<table border=\"1\" class=\"dataframe\">\n",
       "  <thead>\n",
       "    <tr style=\"text-align: right;\">\n",
       "      <th></th>\n",
       "      <th>Leeftijd (op 31 december)</th>\n",
       "      <th>Regio's</th>\n",
       "      <th>aantal</th>\n",
       "      <th>aantal.1</th>\n",
       "    </tr>\n",
       "  </thead>\n",
       "  <tbody>\n",
       "    <tr>\n",
       "      <th>0</th>\n",
       "      <td>Totaal alle leeftijden</td>\n",
       "      <td>Aa en Hunze</td>\n",
       "      <td>25280</td>\n",
       "      <td>25223.0</td>\n",
       "    </tr>\n",
       "    <tr>\n",
       "      <th>1</th>\n",
       "      <td>Totaal alle leeftijden</td>\n",
       "      <td>Aalburg</td>\n",
       "      <td>12884</td>\n",
       "      <td>12980.0</td>\n",
       "    </tr>\n",
       "    <tr>\n",
       "      <th>2</th>\n",
       "      <td>Totaal alle leeftijden</td>\n",
       "      <td>Aalsmeer</td>\n",
       "      <td>30918</td>\n",
       "      <td>31188.0</td>\n",
       "    </tr>\n",
       "    <tr>\n",
       "      <th>3</th>\n",
       "      <td>Totaal alle leeftijden</td>\n",
       "      <td>Aalten</td>\n",
       "      <td>26958.5</td>\n",
       "      <td>26908.0</td>\n",
       "    </tr>\n",
       "    <tr>\n",
       "      <th>4</th>\n",
       "      <td>Totaal alle leeftijden</td>\n",
       "      <td>Achtkarspelen</td>\n",
       "      <td>27999.5</td>\n",
       "      <td>27995.0</td>\n",
       "    </tr>\n",
       "  </tbody>\n",
       "</table>\n",
       "</div>"
      ],
      "text/plain": [
       "  Leeftijd (op 31 december)        Regio's   aantal  aantal.1\n",
       "0    Totaal alle leeftijden    Aa en Hunze    25280   25223.0\n",
       "1    Totaal alle leeftijden        Aalburg    12884   12980.0\n",
       "2    Totaal alle leeftijden       Aalsmeer    30918   31188.0\n",
       "3    Totaal alle leeftijden         Aalten  26958.5   26908.0\n",
       "4    Totaal alle leeftijden  Achtkarspelen  27999.5   27995.0"
      ]
     },
     "execution_count": 15,
     "metadata": {},
     "output_type": "execute_result"
    }
   ],
   "source": [
    "fn = '../datasets/raw/Gemiddelde_bevolking_090916105735.csv'\n",
    "with open(fn, 'r', errors='ignore') as f:\n",
    "    data = f.read()\n",
    "    \n",
    "    \n",
    "count = pd.read_csv(fn, sep=',', skiprows=4)\n",
    "count.head()"
   ]
  },
  {
   "cell_type": "code",
   "execution_count": 24,
   "metadata": {
    "collapsed": false
   },
   "outputs": [
    {
     "data": {
      "text/html": [
       "<div>\n",
       "<table border=\"1\" class=\"dataframe\">\n",
       "  <thead>\n",
       "    <tr style=\"text-align: right;\">\n",
       "      <th></th>\n",
       "      <th>regio</th>\n",
       "      <th>count_2014</th>\n",
       "      <th>count_2015</th>\n",
       "    </tr>\n",
       "  </thead>\n",
       "  <tbody>\n",
       "    <tr>\n",
       "      <th>244</th>\n",
       "      <td>Oldenzaal</td>\n",
       "      <td>32128.5</td>\n",
       "      <td>32115.0</td>\n",
       "    </tr>\n",
       "    <tr>\n",
       "      <th>21</th>\n",
       "      <td>Baarle-Nassau</td>\n",
       "      <td>6605.5</td>\n",
       "      <td>6605.0</td>\n",
       "    </tr>\n",
       "    <tr>\n",
       "      <th>256</th>\n",
       "      <td>Oude IJsselstreek</td>\n",
       "      <td>39576.5</td>\n",
       "      <td>39607.5</td>\n",
       "    </tr>\n",
       "    <tr>\n",
       "      <th>99</th>\n",
       "      <td>Epe</td>\n",
       "      <td>32282.5</td>\n",
       "      <td>32248.0</td>\n",
       "    </tr>\n",
       "    <tr>\n",
       "      <th>203</th>\n",
       "      <td>Maassluis</td>\n",
       "      <td>32140.5</td>\n",
       "      <td>32246.5</td>\n",
       "    </tr>\n",
       "  </tbody>\n",
       "</table>\n",
       "</div>"
      ],
      "text/plain": [
       "                 regio  count_2014  count_2015\n",
       "244          Oldenzaal     32128.5     32115.0\n",
       "21       Baarle-Nassau      6605.5      6605.0\n",
       "256  Oude IJsselstreek     39576.5     39607.5\n",
       "99                 Epe     32282.5     32248.0\n",
       "203          Maassluis     32140.5     32246.5"
      ]
     },
     "execution_count": 24,
     "metadata": {},
     "output_type": "execute_result"
    }
   ],
   "source": [
    "count_df = count.drop(\"Leeftijd (op 31 december)\", axis=1).rename(columns={\n",
    "            \"Regio's\": \"regio\",\n",
    "            \"aantal\": \"count_2014\",\n",
    "            \"aantal.1\": \"count_2015\"\n",
    "        })\n",
    "\n",
    "count_df[\"count_2014\"] = pd.to_numeric(count_df.count_2014, errors='coerce')\n",
    "count_df[\"count_2015\"] = pd.to_numeric(count_df.count_2015, errors='coerce')\n",
    "\n",
    "count_df.sample(5)"
   ]
  },
  {
   "cell_type": "code",
   "execution_count": 25,
   "metadata": {
    "collapsed": false
   },
   "outputs": [
    {
     "ename": "ImportError",
     "evalue": "No module named 'feather'",
     "output_type": "error",
     "traceback": [
      "\u001b[1;31m---------------------------------------------------------------------------\u001b[0m",
      "\u001b[1;31mImportError\u001b[0m                               Traceback (most recent call last)",
      "\u001b[1;32m<ipython-input-25-1aec69f254cd>\u001b[0m in \u001b[0;36m<module>\u001b[1;34m()\u001b[0m\n\u001b[1;32m----> 1\u001b[1;33m \u001b[1;32mimport\u001b[0m \u001b[0mfeather\u001b[0m\u001b[1;33m\u001b[0m\u001b[0m\n\u001b[0m\u001b[0;32m      2\u001b[0m \u001b[1;33m\u001b[0m\u001b[0m\n\u001b[0;32m      3\u001b[0m \u001b[0mfeather\u001b[0m\u001b[1;33m.\u001b[0m\u001b[0msave_dataframe\u001b[0m\u001b[1;33m(\u001b[0m\u001b[1;34m\"../datasets/clean/clean_data.feather\"\u001b[0m\u001b[1;33m)\u001b[0m\u001b[1;33m\u001b[0m\u001b[0m\n",
      "\u001b[1;31mImportError\u001b[0m: No module named 'feather'"
     ]
    }
   ],
   "source": [
    "import feather\n",
    "\n",
    "feather.save_dataframe(\"../datasets/clean/clean_data.feather\")"
   ]
  }
 ],
 "metadata": {
  "anaconda-cloud": {},
  "kernelspec": {
   "display_name": "Python [Root]",
   "language": "python",
   "name": "Python [Root]"
  },
  "language_info": {
   "codemirror_mode": {
    "name": "ipython",
    "version": 3
   },
   "file_extension": ".py",
   "mimetype": "text/x-python",
   "name": "python",
   "nbconvert_exporter": "python",
   "pygments_lexer": "ipython3",
   "version": "3.5.2"
  }
 },
 "nbformat": 4,
 "nbformat_minor": 0
}
